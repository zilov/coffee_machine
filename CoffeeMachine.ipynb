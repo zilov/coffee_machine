{
  "nbformat": 4,
  "nbformat_minor": 0,
  "metadata": {
    "colab": {
      "provenance": []
    },
    "kernelspec": {
      "name": "python3",
      "display_name": "Python 3"
    },
    "language_info": {
      "name": "python"
    }
  },
  "cells": [
    {
      "cell_type": "code",
      "execution_count": 1,
      "metadata": {
        "colab": {
          "base_uri": "https://localhost:8080/"
        },
        "id": "XCUbb7kXyx1U",
        "outputId": "94767f4c-b1bb-4670-f626-6edfadff9a52"
      },
      "outputs": [
        {
          "output_type": "stream",
          "name": "stdout",
          "text": [
            "Hello, bioinformticians!\n"
          ]
        }
      ],
      "source": [
        "print('Hello, bioinformticians!')"
      ]
    },
    {
      "cell_type": "markdown",
      "source": [
        "Stage first coffee machine\n",
        "\n",
        "Bla bla do the coffee machine"
      ],
      "metadata": {
        "id": "wh0_EywpzEkQ"
      }
    },
    {
      "cell_type": "code",
      "source": [],
      "metadata": {
        "colab": {
          "base_uri": "https://localhost:8080/"
        },
        "id": "jzmcELyDy2Kq",
        "outputId": "37b5bd3d-34e9-4bd3-afbb-4a3f3a79099c"
      },
      "execution_count": 2,
      "outputs": [
        {
          "output_type": "execute_result",
          "data": {
            "text/plain": [
              "14"
            ]
          },
          "metadata": {},
          "execution_count": 2
        }
      ]
    },
    {
      "cell_type": "code",
      "source": [],
      "metadata": {
        "id": "MGyBnmxXzANp"
      },
      "execution_count": null,
      "outputs": []
    }
  ]
}